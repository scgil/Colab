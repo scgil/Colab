{
  "nbformat": 4,
  "nbformat_minor": 0,
  "metadata": {
    "colab": {
      "provenance": [],
      "authorship_tag": "ABX9TyPig+qsDIb5HAy+P9LMe1qw",
      "include_colab_link": true
    },
    "kernelspec": {
      "name": "python3",
      "display_name": "Python 3"
    },
    "language_info": {
      "name": "python"
    }
  },
  "cells": [
    {
      "cell_type": "markdown",
      "metadata": {
        "id": "view-in-github",
        "colab_type": "text"
      },
      "source": [
        "<a href=\"https://colab.research.google.com/github/scgil/Colab/blob/main/Recomendador/Recomendador_videojuegos.ipynb\" target=\"_parent\"><img src=\"https://colab.research.google.com/assets/colab-badge.svg\" alt=\"Open In Colab\"/></a>"
      ]
    },
    {
      "cell_type": "markdown",
      "source": [
        "# Sistema de Recomendación de Videojuegos"
      ],
      "metadata": {
        "id": "MKb9fumi6hhh"
      }
    },
    {
      "cell_type": "markdown",
      "source": [
        "El presente Notebook pretende ser un Manual de Uso de la herramienta de Recomendación de videojuegos."
      ],
      "metadata": {
        "id": "8EVPbHle64wb"
      }
    },
    {
      "cell_type": "markdown",
      "source": [
        "# 1.- Carga de datos"
      ],
      "metadata": {
        "id": "O5yk4lrm7Jv3"
      }
    },
    {
      "cell_type": "markdown",
      "source": [
        "Inicialmente, el Sistema de Recomendación de Videojuegos usará un fichero CSV con 40 mil registros de videojuegos extraígos del Catálogo de Steam. Link al fichero fuente: https://www.kaggle.com/datasets/trolukovich/steam-games-complete-dataset/data"
      ],
      "metadata": {
        "id": "F0qxT6Pr7QDN"
      }
    },
    {
      "cell_type": "code",
      "source": [
        "import pandas as pd\n",
        "\n",
        "originalData = pd.read_csv('steam_games.csv')\n",
        "originalData"
      ],
      "metadata": {
        "id": "hPBxTRyF_Htg"
      },
      "execution_count": null,
      "outputs": []
    },
    {
      "cell_type": "markdown",
      "source": [
        "# 2.- Preprocesamiento con Descripción de Videojuegos\n",
        "\n"
      ],
      "metadata": {
        "id": "IxTJ32Wc_ZnI"
      }
    },
    {
      "cell_type": "markdown",
      "source": [
        "Se realiza un proceso de preprocesamiento de texto utilizando la biblioteca NLTK. El objetivo es tomar un conjunto de datos original, que se asume que contiene al menos una columna de texto, y realizar las siguientes operaciones en sucesión:\n",
        "\n",
        "Se Tokeniza la Descripción de cada uno de los videojuegos. Se crea un conjunto de Stop Words en inglés (palabras comunes que suelen eliminarse del texto debido a que no aportan información relevante).\n",
        "\n",
        "Se eliminan las Stop Words de la Descripción Tokenizada y se aplica aplica Stemming (reducir las palabras a su forma raíz) y verificando que sean palabras alfanuméricas.\n",
        "\n",
        "Finalmente, las palabras preprocesadas se vuelven a unir en una cadena y se agregan a la lista. Se crea un nuevo DataFrame llamado preprocessedData, que es una copia del original, y se añade una nueva columna con el texto preprocesado. El resultado final es un DataFrame con los datos originales y una columna adicional que contiene el texto preprocesado."
      ],
      "metadata": {
        "id": "nOu1uMU1_uw4"
      }
    },
    {
      "cell_type": "code",
      "source": [
        "from nltk.tokenize import word_tokenize\n",
        "from nltk.corpus import stopwords\n",
        "from nltk.stem import PorterStemmer\n",
        "\n",
        "import nltk\n",
        "nltk.download('punkt')\n",
        "nltk.download('stopwords')\n",
        "\n",
        "ps = PorterStemmer()\n",
        "\n",
        "preprocessedText = []\n",
        "\n",
        "for row in originalData.itertuples():\n",
        "\n",
        "\n",
        "    text = word_tokenize(row[3]) ## indice de la columna que contiene el texto de Descripción del Videojuego\n",
        "    ## Remove stop words\n",
        "    stops = set(stopwords.words(\"english\"))\n",
        "    text = [ps.stem(w) for w in text if not w in stops and w.isalnum()]\n",
        "    text = \" \".join(text)\n",
        "\n",
        "    preprocessedText.append(text)\n",
        "\n",
        "preprocessedData = originalData\n",
        "preprocessedData['processed_text'] = preprocessedText\n",
        "\n",
        "preprocessedData"
      ],
      "metadata": {
        "id": "rn58TXBnEZhW"
      },
      "execution_count": null,
      "outputs": []
    },
    {
      "cell_type": "code",
      "source": [
        "preprocessedData.iloc[0]['overview']"
      ],
      "metadata": {
        "id": "eTVSpCsgEiqS"
      },
      "execution_count": null,
      "outputs": []
    },
    {
      "cell_type": "code",
      "source": [
        "preprocessedData.iloc[0]['processed_text']"
      ],
      "metadata": {
        "id": "ucmMn5rUEjYd"
      },
      "execution_count": null,
      "outputs": []
    },
    {
      "cell_type": "markdown",
      "source": [
        "# 3.- Creación de la Bolsa de Palabras (Bag of Words) con TF-IDF"
      ],
      "metadata": {
        "id": "g008J_kDFoI9"
      }
    },
    {
      "cell_type": "markdown",
      "source": [
        "Se parte de los datos almacenados en \"preprocessedData\", en donde para cada Videojuego existe un campo 'preprocessed_text' que contiene la Descripción preprocesada.\n",
        "\n",
        "El objetivo es transformar todos los textos de las Descripciones de los Videojuegos en vectores de frecuencias (Bag of words), aplicando además la ponderación TF-IDF para los valores de dichas frecuencias.\n",
        "\n",
        "El paquete sklearn ofrece una clase llamada TfidfVectorizer que crea automáticamente la matriz compuesta por todos los vectores de frecuencias ponderados a partir de un array de textos (preprocessedData['processed_text'])."
      ],
      "metadata": {
        "id": "NQ9cQpm6F8oh"
      }
    },
    {
      "cell_type": "code",
      "source": [
        "from sklearn.feature_extraction.text import TfidfVectorizer\n",
        "\n",
        "bagOfWordsModel = TfidfVectorizer()\n",
        "bagOfWordsModel.fit(preprocessedData['processed_text'])\n",
        "textsBoW= bagOfWordsModel.transform(preprocessedData['processed_text'])\n",
        "print(\"Finished\")"
      ],
      "metadata": {
        "id": "j0eo1AEHGaVh"
      },
      "execution_count": null,
      "outputs": []
    },
    {
      "cell_type": "code",
      "source": [
        "textsBoW.shape"
      ],
      "metadata": {
        "id": "WZIXFtEnGhZj"
      },
      "execution_count": null,
      "outputs": []
    },
    {
      "cell_type": "code",
      "source": [
        "print(textsBoW)"
      ],
      "metadata": {
        "id": "Ckq7A7UyGkCx"
      },
      "execution_count": null,
      "outputs": []
    },
    {
      "cell_type": "code",
      "source": [
        "bagOfWordsModel.get_feature_names()"
      ],
      "metadata": {
        "id": "aERXeXV3Gm_q"
      },
      "execution_count": null,
      "outputs": []
    },
    {
      "cell_type": "code",
      "source": [
        "bagOfWordsModel.get_feature_names()[0]"
      ],
      "metadata": {
        "id": "msxXdyRGGvw2"
      },
      "execution_count": null,
      "outputs": []
    },
    {
      "cell_type": "markdown",
      "source": [
        "# 4.- Cálculo de distancias entre vectores de frecuencias: Similitud de Coseno"
      ],
      "metadata": {
        "id": "pDq90wZSG1mw"
      }
    },
    {
      "cell_type": "markdown",
      "source": [
        "El objetivo final es el de crear una matriz N x N (N= número de Videojuegos) en donde el valor de la posición matriz[i,j] indique la distancia que existe entre el Videojuego i y el Videojuego j.\n",
        "\n",
        "Gracias a que ahora los textos están representados mediante vectores de frecuencias (textsBoW), el cálculo de distancias se realizará empleando emplearará para ello la Distancia Coseno entre vectores."
      ],
      "metadata": {
        "id": "IqV0zR_wHKqj"
      }
    },
    {
      "cell_type": "code",
      "source": [
        "from sklearn.metrics import pairwise_distances\n",
        "\n",
        "distance_matrix= pairwise_distances(textsBoW,textsBoW ,metric='cosine')"
      ],
      "metadata": {
        "id": "g7DmnxiUHxfU"
      },
      "execution_count": null,
      "outputs": []
    },
    {
      "cell_type": "code",
      "source": [
        "print(distance_matrix.shape)\n",
        "print(type(distance_matrix))"
      ],
      "metadata": {
        "id": "Xh3kNi00HygH"
      },
      "execution_count": null,
      "outputs": []
    },
    {
      "cell_type": "markdown",
      "source": [
        "# 5.- Búsqueda de los Videojuegos más similares a otro en base a la Descripción"
      ],
      "metadata": {
        "id": "byuIY7WzH7Lq"
      }
    },
    {
      "cell_type": "code",
      "source": [
        "searchTitle = \"DOOM\" #Videojuego base para buscar las recomendaciones\n",
        "indexOfTitle = preprocessedData[preprocessedData['name']==searchTitle].index.values[0]\n",
        "indexOfTitle"
      ],
      "metadata": {
        "id": "oJ-tq7iVIIQw"
      },
      "execution_count": null,
      "outputs": []
    },
    {
      "cell_type": "code",
      "source": [
        "distance_scores = list(enumerate(distance_matrix[indexOfTitle]))\n",
        "distance_scores"
      ],
      "metadata": {
        "id": "AA5JFiWBIe7I"
      },
      "execution_count": null,
      "outputs": []
    },
    {
      "cell_type": "code",
      "source": [
        "ordered_scores = sorted(distance_scores, key=lambda x: x[1])\n",
        "ordered_scores"
      ],
      "metadata": {
        "id": "Z-hHBPRNIiFz"
      },
      "execution_count": null,
      "outputs": []
    },
    {
      "cell_type": "code",
      "source": [
        "top_scores = ordered_scores[1:11]\n",
        "top_scores"
      ],
      "metadata": {
        "id": "rO1nm_TxIm-O"
      },
      "execution_count": null,
      "outputs": []
    },
    {
      "cell_type": "code",
      "source": [
        "top_indexes = [i[0] for i in top_scores]\n",
        "top_indexes"
      ],
      "metadata": {
        "id": "u0YKNQzkIpOl"
      },
      "execution_count": null,
      "outputs": []
    },
    {
      "cell_type": "code",
      "source": [
        "preprocessedData['name'].iloc[top_indexes]"
      ],
      "metadata": {
        "id": "ySPzbmOgIrz-"
      },
      "execution_count": null,
      "outputs": []
    }
  ]
}